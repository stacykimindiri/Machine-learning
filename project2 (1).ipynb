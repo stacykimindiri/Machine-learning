{
  "nbformat": 4,
  "nbformat_minor": 0,
  "metadata": {
    "colab": {
      "provenance": []
    },
    "kernelspec": {
      "name": "python3",
      "display_name": "Python 3"
    },
    "language_info": {
      "name": "python"
    }
  },
  "cells": [
    {
      "cell_type": "code",
      "execution_count": null,
      "metadata": {
        "colab": {
          "base_uri": "https://localhost:8080/"
        },
        "id": "yNC_VxqTTDca",
        "outputId": "49f3967f-6276-48e0-80de-d37e49cf82e2"
      },
      "outputs": [
        {
          "output_type": "stream",
          "name": "stdout",
          "text": [
            "    ViolentCrime  Murder  Rape  Robbery  AggravatedAssault PropertyCrime  \\\n",
            "0          412.5     5.3  56.0     78.4              272.8      3,609.00   \n",
            "1          238.4     5.1  38.2     75.2              119.8      2,552.40   \n",
            "2          667.9     7.8  30.4    157.9              471.8      3,894.10   \n",
            "3          114.3     2.5  28.2     20.7               63.0      3,208.40   \n",
            "4          792.6     6.1  63.8    206.7              516.0      4,607.80   \n",
            "..           ...     ...   ...      ...                ...           ...   \n",
            "373        251.6    11.4   6.3     74.6              159.3         823.2   \n",
            "374        237.5    11.5   5.2     82.3              138.6      1,320.00   \n",
            "375        231.4    18.0   5.0     66.2              142.2           885   \n",
            "376         92.1     5.4   4.6     16.1               66.0           420   \n",
            "377          262    20.6   4.9    157.8               78.7      1,281.20   \n",
            "\n",
            "     Burglary     Theft  MotorVehicleTheft  \\\n",
            "0         852  2,493.60              263.4   \n",
            "1       575.3  1,853.00              124.1   \n",
            "2    1,099.60  2,652.80              141.7   \n",
            "3       484.6  2,476.10              247.7   \n",
            "4       883.4  3,047.60              676.9   \n",
            "..        ...       ...                ...   \n",
            "373     265.5     531.1               26.6   \n",
            "374     377.1     861.6               81.3   \n",
            "375     214.4     632.4               38.1   \n",
            "376     168.9     226.5               24.6   \n",
            "377     281.8       835              164.3   \n",
            "\n",
            "                                            State         City  \n",
            "0                                              TX      Abilene  \n",
            "1                                              OH        Akron  \n",
            "2                                              GA       Albany  \n",
            "3                                              OR       Albany  \n",
            "4                                              NM  Albuquerque  \n",
            "..                                            ...          ...  \n",
            "373                   Guayama, Puerto Rico M.S.A.      Guayama  \n",
            "374                  Mayaguez, Puerto Rico M.S.A.     Mayaguez  \n",
            "375                     Ponce, Puerto Rico M.S.A.        Ponce  \n",
            "376                San German, Puerto Rico M.S.A.   San German  \n",
            "377  San Juan-Carolina-Caguas, Puerto Rico M.S.A.     San Juan  \n",
            "\n",
            "[378 rows x 11 columns]\n"
          ]
        }
      ],
      "source": [
        "#DATA LOADING\n",
        "import pandas as pd #importing the necessary libraries\n",
        "df=pd.read_csv(\"/content/crime - crime.csv\")\n",
        "print(df)"
      ]
    },
    {
      "cell_type": "markdown",
      "source": [
        "check if there are existing data in the data frame."
      ],
      "metadata": {
        "id": "jioINvUN9tyf"
      }
    },
    {
      "cell_type": "markdown",
      "source": [
        "here we access the file."
      ],
      "metadata": {
        "id": "P_yi__IWIMUj"
      }
    },
    {
      "cell_type": "code",
      "source": [
        "#checking for the initial rows\n",
        "df.head()\n",
        "#checking for the last rows\n",
        "df.tail()\n",
        "#checking for information\n",
        "df.info()\n",
        "#to check for the number of rows and columns\n",
        "df.shape\n",
        "#checking for each data types\n",
        "df.dtypes"
      ],
      "metadata": {
        "colab": {
          "base_uri": "https://localhost:8080/"
        },
        "id": "j4e2L3GAIRVY",
        "outputId": "d1c22db2-0b61-4443-872b-ba136e820488"
      },
      "execution_count": null,
      "outputs": [
        {
          "output_type": "stream",
          "name": "stdout",
          "text": [
            "<class 'pandas.core.frame.DataFrame'>\n",
            "RangeIndex: 378 entries, 0 to 377\n",
            "Data columns (total 11 columns):\n",
            " #   Column             Non-Null Count  Dtype  \n",
            "---  ------             --------------  -----  \n",
            " 0   ViolentCrime       377 non-null    object \n",
            " 1   Murder             378 non-null    float64\n",
            " 2   Rape               378 non-null    float64\n",
            " 3   Robbery            378 non-null    float64\n",
            " 4   AggravatedAssault  377 non-null    float64\n",
            " 5   PropertyCrime      372 non-null    object \n",
            " 6   Burglary           374 non-null    object \n",
            " 7   Theft              375 non-null    object \n",
            " 8   MotorVehicleTheft  378 non-null    float64\n",
            " 9   State              378 non-null    object \n",
            " 10  City               373 non-null    object \n",
            "dtypes: float64(5), object(6)\n",
            "memory usage: 32.6+ KB\n"
          ]
        },
        {
          "output_type": "execute_result",
          "data": {
            "text/plain": [
              "ViolentCrime          object\n",
              "Murder               float64\n",
              "Rape                 float64\n",
              "Robbery              float64\n",
              "AggravatedAssault    float64\n",
              "PropertyCrime         object\n",
              "Burglary              object\n",
              "Theft                 object\n",
              "MotorVehicleTheft    float64\n",
              "State                 object\n",
              "City                  object\n",
              "dtype: object"
            ]
          },
          "metadata": {},
          "execution_count": 2
        }
      ]
    },
    {
      "cell_type": "markdown",
      "source": [
        "the info fucntion checks for the data range,columns the count of null values in the data entries and gives the data type."
      ],
      "metadata": {
        "id": "wNONZ4gn-MNq"
      }
    },
    {
      "cell_type": "markdown",
      "source": [
        "false shows that there are no missing values in the data set\n"
      ],
      "metadata": {
        "id": "3vmrcZlOKqKI"
      }
    },
    {
      "cell_type": "code",
      "source": [
        "#Data Cleaning\n",
        "#load the data\n",
        "import pandas as pd #importing the necessary libraries\n",
        "df=pd.read_csv(\"/content/crime - crime.csv\")\n",
        "print(df)\n",
        "#Checking for missing values\n",
        "df.isnull().sum()"
      ],
      "metadata": {
        "colab": {
          "base_uri": "https://localhost:8080/"
        },
        "id": "1_dv1HoyX-Wi",
        "outputId": "35e324fb-b6e5-4b11-e3f7-b9235c5da9c4"
      },
      "execution_count": 32,
      "outputs": [
        {
          "output_type": "stream",
          "name": "stdout",
          "text": [
            "    ViolentCrime  Murder  Rape  Robbery  AggravatedAssault PropertyCrime  \\\n",
            "0          412.5     5.3  56.0     78.4              272.8      3,609.00   \n",
            "1          238.4     5.1  38.2     75.2              119.8      2,552.40   \n",
            "2          667.9     7.8  30.4    157.9              471.8      3,894.10   \n",
            "3          114.3     2.5  28.2     20.7               63.0      3,208.40   \n",
            "4          792.6     6.1  63.8    206.7              516.0      4,607.80   \n",
            "..           ...     ...   ...      ...                ...           ...   \n",
            "373        251.6    11.4   6.3     74.6              159.3         823.2   \n",
            "374        237.5    11.5   5.2     82.3              138.6      1,320.00   \n",
            "375        231.4    18.0   5.0     66.2              142.2           885   \n",
            "376         92.1     5.4   4.6     16.1               66.0           420   \n",
            "377          262    20.6   4.9    157.8               78.7      1,281.20   \n",
            "\n",
            "     Burglary     Theft  MotorVehicleTheft  \\\n",
            "0         852  2,493.60              263.4   \n",
            "1       575.3  1,853.00              124.1   \n",
            "2    1,099.60  2,652.80              141.7   \n",
            "3       484.6  2,476.10              247.7   \n",
            "4       883.4  3,047.60              676.9   \n",
            "..        ...       ...                ...   \n",
            "373     265.5     531.1               26.6   \n",
            "374     377.1     861.6               81.3   \n",
            "375     214.4     632.4               38.1   \n",
            "376     168.9     226.5               24.6   \n",
            "377     281.8       835              164.3   \n",
            "\n",
            "                                            State         City  \n",
            "0                                              TX      Abilene  \n",
            "1                                              OH        Akron  \n",
            "2                                              GA       Albany  \n",
            "3                                              OR       Albany  \n",
            "4                                              NM  Albuquerque  \n",
            "..                                            ...          ...  \n",
            "373                   Guayama, Puerto Rico M.S.A.      Guayama  \n",
            "374                  Mayaguez, Puerto Rico M.S.A.     Mayaguez  \n",
            "375                     Ponce, Puerto Rico M.S.A.        Ponce  \n",
            "376                San German, Puerto Rico M.S.A.   San German  \n",
            "377  San Juan-Carolina-Caguas, Puerto Rico M.S.A.     San Juan  \n",
            "\n",
            "[378 rows x 11 columns]\n"
          ]
        },
        {
          "output_type": "execute_result",
          "data": {
            "text/plain": [
              "ViolentCrime         1\n",
              "Murder               0\n",
              "Rape                 0\n",
              "Robbery              0\n",
              "AggravatedAssault    1\n",
              "PropertyCrime        6\n",
              "Burglary             4\n",
              "Theft                3\n",
              "MotorVehicleTheft    0\n",
              "State                0\n",
              "City                 5\n",
              "dtype: int64"
            ]
          },
          "metadata": {},
          "execution_count": 32
        }
      ]
    },
    {
      "cell_type": "code",
      "source": [
        "#To drop the missing values\n",
        "df.dropped=df.dropna()\n",
        "print(\"\\nDataFrame after dropping missing values:\")\n",
        "print(df.dropped)"
      ],
      "metadata": {
        "id": "O3vFQvxgCRIG",
        "outputId": "2f24dc2a-ba0d-459a-a390-6019ceaa879b",
        "colab": {
          "base_uri": "https://localhost:8080/"
        }
      },
      "execution_count": 33,
      "outputs": [
        {
          "output_type": "stream",
          "name": "stdout",
          "text": [
            "\n",
            "DataFrame after dropping missing values:\n",
            "    ViolentCrime  Murder  Rape  Robbery  AggravatedAssault PropertyCrime  \\\n",
            "0          412.5     5.3  56.0     78.4              272.8      3,609.00   \n",
            "1          238.4     5.1  38.2     75.2              119.8      2,552.40   \n",
            "2          667.9     7.8  30.4    157.9              471.8      3,894.10   \n",
            "3          114.3     2.5  28.2     20.7               63.0      3,208.40   \n",
            "4          792.6     6.1  63.8    206.7              516.0      4,607.80   \n",
            "..           ...     ...   ...      ...                ...           ...   \n",
            "373        251.6    11.4   6.3     74.6              159.3         823.2   \n",
            "374        237.5    11.5   5.2     82.3              138.6      1,320.00   \n",
            "375        231.4    18.0   5.0     66.2              142.2           885   \n",
            "376         92.1     5.4   4.6     16.1               66.0           420   \n",
            "377          262    20.6   4.9    157.8               78.7      1,281.20   \n",
            "\n",
            "     Burglary     Theft  MotorVehicleTheft  \\\n",
            "0         852  2,493.60              263.4   \n",
            "1       575.3  1,853.00              124.1   \n",
            "2    1,099.60  2,652.80              141.7   \n",
            "3       484.6  2,476.10              247.7   \n",
            "4       883.4  3,047.60              676.9   \n",
            "..        ...       ...                ...   \n",
            "373     265.5     531.1               26.6   \n",
            "374     377.1     861.6               81.3   \n",
            "375     214.4     632.4               38.1   \n",
            "376     168.9     226.5               24.6   \n",
            "377     281.8       835              164.3   \n",
            "\n",
            "                                            State         City  \n",
            "0                                              TX      Abilene  \n",
            "1                                              OH        Akron  \n",
            "2                                              GA       Albany  \n",
            "3                                              OR       Albany  \n",
            "4                                              NM  Albuquerque  \n",
            "..                                            ...          ...  \n",
            "373                   Guayama, Puerto Rico M.S.A.      Guayama  \n",
            "374                  Mayaguez, Puerto Rico M.S.A.     Mayaguez  \n",
            "375                     Ponce, Puerto Rico M.S.A.        Ponce  \n",
            "376                San German, Puerto Rico M.S.A.   San German  \n",
            "377  San Juan-Carolina-Caguas, Puerto Rico M.S.A.     San Juan  \n",
            "\n",
            "[366 rows x 11 columns]\n"
          ]
        },
        {
          "output_type": "stream",
          "name": "stderr",
          "text": [
            "<ipython-input-33-23c8bc965552>:2: UserWarning: Pandas doesn't allow columns to be created via a new attribute name - see https://pandas.pydata.org/pandas-docs/stable/indexing.html#attribute-access\n",
            "  df.dropped=df.dropna()\n"
          ]
        }
      ]
    },
    {
      "cell_type": "code",
      "source": [
        "#checking for duplicates\n",
        "df.duplicated()\n",
        "duplicates = df.duplicated().sum()\n",
        "print(\"Number of duplicates:\",duplicates)"
      ],
      "metadata": {
        "colab": {
          "base_uri": "https://localhost:8080/"
        },
        "id": "z0BQ1FfsKy8g",
        "outputId": "9972ca0c-826e-4114-dcd6-d70d37e7dba2"
      },
      "execution_count": null,
      "outputs": [
        {
          "output_type": "stream",
          "name": "stdout",
          "text": [
            "Number of duplicates: 0\n"
          ]
        }
      ]
    },
    {
      "cell_type": "markdown",
      "source": [
        "in the entire data set there are no duplicates,thics checks of there are repeated rows in the data frame."
      ],
      "metadata": {
        "id": "GMX3aQpTMeJp"
      }
    },
    {
      "cell_type": "code",
      "source": [
        "#summary statistics\n",
        "print(df.describe())"
      ],
      "metadata": {
        "colab": {
          "base_uri": "https://localhost:8080/"
        },
        "id": "Y3yL-NETMjYu",
        "outputId": "a25ee635-a68b-49d5-dfa5-fcf8a5af3c5f"
      },
      "execution_count": null,
      "outputs": [
        {
          "output_type": "stream",
          "name": "stdout",
          "text": [
            "           Murder        Rape     Robbery  AggravatedAssault  \\\n",
            "count  378.000000  378.000000  378.000000         377.000000   \n",
            "mean     4.574868   41.306614   77.702646         241.319098   \n",
            "std      3.383652   19.506386   53.977181         137.267225   \n",
            "min      0.000000    2.700000    2.300000          25.500000   \n",
            "25%      2.200000   29.000000   36.625000         144.200000   \n",
            "50%      3.800000   37.550000   67.350000         215.700000   \n",
            "75%      6.275000   51.550000  106.050000         304.900000   \n",
            "max     20.600000  165.600000  351.900000         981.300000   \n",
            "\n",
            "       MotorVehicleTheft  \n",
            "count         378.000000  \n",
            "mean          191.081746  \n",
            "std           134.532918  \n",
            "min            15.700000  \n",
            "25%            97.550000  \n",
            "50%           154.450000  \n",
            "75%           249.650000  \n",
            "max           718.600000  \n"
          ]
        }
      ]
    },
    {
      "cell_type": "markdown",
      "source": [
        "from the mean we can conclude that the aggravated assault us the most occuring offense.\n"
      ],
      "metadata": {
        "id": "NQrs_yOtAJhP"
      }
    },
    {
      "cell_type": "code",
      "source": [
        "#checking for outliers(this are numerical columns)\n",
        "numerical_columns = df.select_dtypes(include=['float64', 'int64']).columns\n",
        "numerical_columns"
      ],
      "metadata": {
        "colab": {
          "base_uri": "https://localhost:8080/"
        },
        "id": "B6rVpqscNM93",
        "outputId": "47e77ef9-e106-4d96-d446-8fcbbb77a786"
      },
      "execution_count": null,
      "outputs": [
        {
          "output_type": "execute_result",
          "data": {
            "text/plain": [
              "Index(['Murder', 'Rape', 'Robbery', 'AggravatedAssault', 'MotorVehicleTheft'], dtype='object')"
            ]
          },
          "metadata": {},
          "execution_count": 10
        }
      ]
    },
    {
      "cell_type": "code",
      "source": [
        "outliers = df[numerical_columns].apply(lambda x: (x - x.mean()).abs() > 3 * x.std()).sum()\n",
        "\n",
        "print(\"\\nOutliers:\")\n",
        "print(outliers)"
      ],
      "metadata": {
        "colab": {
          "base_uri": "https://localhost:8080/"
        },
        "id": "S8xAeVOzNvqY",
        "outputId": "3a639a00-d67b-4b81-c305-b8182318daaa"
      },
      "execution_count": null,
      "outputs": [
        {
          "output_type": "stream",
          "name": "stdout",
          "text": [
            "\n",
            "Outliers:\n",
            "Murder               7\n",
            "Rape                 5\n",
            "Robbery              7\n",
            "AggravatedAssault    5\n",
            "MotorVehicleTheft    7\n",
            "dtype: int64\n"
          ]
        }
      ]
    },
    {
      "cell_type": "markdown",
      "source": [
        "there are 7 outliers int the murder,robbery and motorvehicleTheft columns.\n",
        "there are also 5 outliers in the rape and aggravatedAssault columns."
      ],
      "metadata": {
        "id": "zxZZhzHcN6CB"
      }
    },
    {
      "cell_type": "code",
      "source": [
        "# Define the z-score threshold for outlier detection\n",
        "threshold = 3\n",
        "\n",
        "# Calculate z-scores for each numerical column\n",
        "z_scores = df[numerical_columns].apply(lambda x: (x - x.mean()) / x.std())\n",
        "\n",
        "# Find rows where any z-score exceeds the threshold\n",
        "outlier_rows = z_scores[(z_scores.abs() > threshold).any(axis=1)]\n",
        "#Remove the outlier rows from the Data Frame\n",
        "df_cleaned = df.drop(outlier_rows.index)"
      ],
      "metadata": {
        "id": "cXCW1zMdSge9"
      },
      "execution_count": 44,
      "outputs": []
    },
    {
      "cell_type": "code",
      "source": [
        "import matplotlib.pyplot as plt\n",
        "import seaborn as sns\n",
        "import numpy as np\n",
        "\n",
        "# Unique values in categorical columns\n",
        "print(\"\\nUnique Values in Categorical Columns:\")\n",
        "for col in df_cleaned.select_dtypes(include='object').columns:\n",
        "    print(f\"{col}: {df_cleaned[col].nunique()} unique values\")\n",
        "    print(df_cleaned[col].value_counts())\n",
        "    print()\n",
        "\n",
        "# Correlation matrix for numerical columns\n",
        "print(\"\\nCorrelation Matrix for Numerical Columns:\")\n",
        "corr_matrix = df_cleaned.select_dtypes(include=np.number).corr()\n",
        "print(corr_matrix)\n",
        "\n",
        "# Correlation heatmap\n",
        "plt.figure(figsize=(10, 8))\n",
        "sns.heatmap(corr_matrix, annot=True, cmap='coolwarm', fmt=\".2f\")\n",
        "plt.title('Correlation Heatmap')\n",
        "plt.show()"
      ],
      "metadata": {
        "id": "9IHgp1JHLbSt",
        "outputId": "fa0d26ff-a7a4-4f37-ace6-426de3d9870b",
        "colab": {
          "base_uri": "https://localhost:8080/",
          "height": 1000
        }
      },
      "execution_count": 43,
      "outputs": [
        {
          "output_type": "stream",
          "name": "stdout",
          "text": [
            "\n",
            "Unique Values in Categorical Columns:\n",
            "ViolentCrime: 344 unique values\n",
            "ViolentCrime\n",
            "180.4    2\n",
            "323.7    2\n",
            "324.1    2\n",
            "255.7    2\n",
            "358.2    2\n",
            "        ..\n",
            "582.9    1\n",
            "532.3    1\n",
            "537.3    1\n",
            "288      1\n",
            "92.1     1\n",
            "Name: count, Length: 344, dtype: int64\n",
            "\n",
            "PropertyCrime: 346 unique values\n",
            "PropertyCrime\n",
            "3,019.10    2\n",
            "3,285.80    2\n",
            "3,609.00    1\n",
            "3,105.80    1\n",
            "2,941.30    1\n",
            "           ..\n",
            "2,790.50    1\n",
            "3,998.70    1\n",
            "3,439.40    1\n",
            "2,328.30    1\n",
            "420         1\n",
            "Name: count, Length: 346, dtype: int64\n",
            "\n",
            "Burglary: 343 unique values\n",
            "Burglary\n",
            "465.8    2\n",
            "497.1    2\n",
            "325.4    2\n",
            "534.9    2\n",
            "405.3    2\n",
            "        ..\n",
            "473.6    1\n",
            "878.5    1\n",
            "751.3    1\n",
            "434.7    1\n",
            "168.9    1\n",
            "Name: count, Length: 343, dtype: int64\n",
            "\n",
            "Theft: 346 unique values\n",
            "Theft\n",
            "1,631.70    3\n",
            "2,096.80    2\n",
            "2,476.10    2\n",
            "1,520.20    2\n",
            "2,493.60    1\n",
            "           ..\n",
            "1,655.60    1\n",
            "2,337.70    1\n",
            "705.7       1\n",
            "1,328.80    1\n",
            "226.5       1\n",
            "Name: count, Length: 346, dtype: int64\n",
            "\n",
            "State: 56 unique values\n",
            "State\n",
            "TX                                       26\n",
            "CA                                       25\n",
            "FL                                       25\n",
            "PA                                       16\n",
            "MI                                       14\n",
            "WA                                       13\n",
            "GA                                       11\n",
            "AL                                       11\n",
            "WI                                       11\n",
            "IN                                       11\n",
            "TN                                        9\n",
            "NC                                        9\n",
            "OH                                        9\n",
            "IL                                        9\n",
            "NY                                        9\n",
            "VA                                        8\n",
            "MO                                        8\n",
            "IA                                        8\n",
            "OR                                        7\n",
            "AZ                                        6\n",
            "LA                                        6\n",
            "CO                                        6\n",
            "MD                                        6\n",
            "SC                                        6\n",
            "MN                                        5\n",
            "ID                                        5\n",
            "KY                                        5\n",
            "UT                                        5\n",
            "WV                                        5\n",
            "NJ                                        5\n",
            "OK                                        4\n",
            "AR                                        4\n",
            "MA                                        4\n",
            "NE                                        3\n",
            "KS                                        3\n",
            "MS                                        3\n",
            "MT                                        3\n",
            "ME                                        3\n",
            "CT                                        3\n",
            "ND                                        3\n",
            "DE                                        2\n",
            "DC                                        2\n",
            "NM                                        2\n",
            "WY                                        2\n",
            "NV                                        2\n",
            "HI                                        2\n",
            "Mayaguez, Puerto Rico M.S.A.              1\n",
            "Guayama, Puerto Rico M.S.A.               1\n",
            "Arecibo, Puerto Rico M.S.A.               1\n",
            "Aguadilla-Isabela, Puerto Rico M.S.A.     1\n",
            "NH                                        1\n",
            "SD                                        1\n",
            "RI                                        1\n",
            "AK                                        1\n",
            "VT                                        1\n",
            "San German, Puerto Rico M.S.A.            1\n",
            "Name: count, dtype: int64\n",
            "\n",
            "City: 321 unique values\n",
            "City\n",
            "Springfield       4\n",
            "Jackson           3\n",
            "Columbus          3\n",
            "Los Angeles       2\n",
            "Midland           2\n",
            "                 ..\n",
            "Grand Junction    1\n",
            "Grand Island      1\n",
            "Grand Forks       1\n",
            "Goldsboro         1\n",
            "San German        1\n",
            "Name: count, Length: 321, dtype: int64\n",
            "\n",
            "\n",
            "Correlation Matrix for Numerical Columns:\n",
            "                     Murder      Rape   Robbery  AggravatedAssault  \\\n",
            "Murder             1.000000 -0.032460  0.610118           0.420291   \n",
            "Rape              -0.032460  1.000000  0.073850           0.332657   \n",
            "Robbery            0.610118  0.073850  1.000000           0.529892   \n",
            "AggravatedAssault  0.420291  0.332657  0.529892           1.000000   \n",
            "MotorVehicleTheft  0.324535  0.132140  0.506652           0.416423   \n",
            "\n",
            "                   MotorVehicleTheft  \n",
            "Murder                      0.324535  \n",
            "Rape                        0.132140  \n",
            "Robbery                     0.506652  \n",
            "AggravatedAssault           0.416423  \n",
            "MotorVehicleTheft           1.000000  \n"
          ]
        },
        {
          "output_type": "display_data",
          "data": {
            "text/plain": [
              "<Figure size 1000x800 with 2 Axes>"
            ],
            "image/png": "[encoded data removed]"
          },
          "metadata": {}
        }
      ]
    },
    {
      "cell_type": "markdown",
      "source": [
        "the z score is used to identify the outliers.x is the value of the data point,y is the mean over the standard variation\n"
      ],
      "metadata": {
        "id": "RohD4iDeG8qm"
      }
    },
    {
      "cell_type": "code",
      "source": [
        "#Modelling\n",
        "#making predictions and evaluating them"
      ],
      "metadata": {
        "id": "BZvSewqdcLNh"
      },
      "execution_count": null,
      "outputs": []
    }
  ]
}